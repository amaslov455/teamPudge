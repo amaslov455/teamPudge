{
 "cells": [
  {
   "cell_type": "code",
   "execution_count": 0,
   "metadata": {
    "colab": {},
    "colab_type": "code",
    "id": "lSFhIr8HrUQm"
   },
   "outputs": [],
   "source": [
    "import pandas as pd\n",
    "import numpy as np\n",
    "from sklearn.preprocessing import LabelEncoder, OneHotEncoder\n",
    "from sklearn.feature_extraction.text import TfidfVectorizer\n",
    "from sklearn.feature_extraction.text import CountVectorizer\n",
    "from sklearn.utils import shuffle"
   ]
  },
  {
   "cell_type": "code",
   "execution_count": 0,
   "metadata": {
    "colab": {},
    "colab_type": "code",
    "id": "OD8I8NelrUZ5"
   },
   "outputs": [],
   "source": [
    "df_FullHtml = pd.read_csv('/content/drive/My Drive/Colab Notebooks/html_new_1000words.csv', encoding = 'utf-8-sig')\n",
    "df_FullHtml = shuffle(df_FullHtml)\n",
    "df_FullHtml = df_FullHtml[df_FullHtml['title']!='none']\n",
    "df_FullHtml = df_FullHtml[df_FullHtml['title']!='']\n",
    "df_FullHtml = df_FullHtml[['category','title']].reset_index()"
   ]
  },
  {
   "cell_type": "code",
   "execution_count": 42,
   "metadata": {
    "colab": {
     "base_uri": "https://localhost:8080/",
     "height": 419
    },
    "colab_type": "code",
    "executionInfo": {
     "elapsed": 776,
     "status": "ok",
     "timestamp": 1582280333418,
     "user": {
      "displayName": "Sambr The Slayer",
      "photoUrl": "https://lh3.googleusercontent.com/a-/AAuE7mCMkWyB8JIrTlhktnEMIeJ9_qij3YSznzf1NDcJ=s64",
      "userId": "05185642311747649005"
     },
     "user_tz": -300
    },
    "id": "YquZupSYQcZQ",
    "outputId": "32f60e81-0b1a-4bd8-9038-f24a37c02a6b"
   },
   "outputs": [
    {
     "data": {
      "text/html": [
       "<div>\n",
       "<style scoped>\n",
       "    .dataframe tbody tr th:only-of-type {\n",
       "        vertical-align: middle;\n",
       "    }\n",
       "\n",
       "    .dataframe tbody tr th {\n",
       "        vertical-align: top;\n",
       "    }\n",
       "\n",
       "    .dataframe thead th {\n",
       "        text-align: right;\n",
       "    }\n",
       "</style>\n",
       "<table border=\"1\" class=\"dataframe\">\n",
       "  <thead>\n",
       "    <tr style=\"text-align: right;\">\n",
       "      <th></th>\n",
       "      <th>category</th>\n",
       "      <th>title</th>\n",
       "    </tr>\n",
       "  </thead>\n",
       "  <tbody>\n",
       "    <tr>\n",
       "      <th>116861</th>\n",
       "      <td>13</td>\n",
       "      <td>эксперт автомобиль туризм техника тонна исполь...</td>\n",
       "    </tr>\n",
       "    <tr>\n",
       "      <th>41692</th>\n",
       "      <td>12</td>\n",
       "      <td>занятие путь начать психологический офис вновь...</td>\n",
       "    </tr>\n",
       "    <tr>\n",
       "      <th>70490</th>\n",
       "      <td>3</td>\n",
       "      <td>эксперт сделать логотип предприятие подать тек...</td>\n",
       "    </tr>\n",
       "    <tr>\n",
       "      <th>84514</th>\n",
       "      <td>0</td>\n",
       "      <td>скидка туризм дом крепление звук электроника с...</td>\n",
       "    </tr>\n",
       "    <tr>\n",
       "      <th>44850</th>\n",
       "      <td>24</td>\n",
       "      <td>регулярно внимание доход начать собираться нач...</td>\n",
       "    </tr>\n",
       "    <tr>\n",
       "      <th>...</th>\n",
       "      <td>...</td>\n",
       "      <td>...</td>\n",
       "    </tr>\n",
       "    <tr>\n",
       "      <th>78027</th>\n",
       "      <td>10</td>\n",
       "      <td>совет объесть диета прочий массаж спа душа кож...</td>\n",
       "    </tr>\n",
       "    <tr>\n",
       "      <th>75227</th>\n",
       "      <td>24</td>\n",
       "      <td>внимание лежать пусть знак просить взрослый по...</td>\n",
       "    </tr>\n",
       "    <tr>\n",
       "      <th>48349</th>\n",
       "      <td>12</td>\n",
       "      <td>совет знакомство значить целое мудрость конфли...</td>\n",
       "    </tr>\n",
       "    <tr>\n",
       "      <th>77856</th>\n",
       "      <td>25</td>\n",
       "      <td>сетевой потолок товарный силовой делать базовы...</td>\n",
       "    </tr>\n",
       "    <tr>\n",
       "      <th>34392</th>\n",
       "      <td>15</td>\n",
       "      <td>долг рейтинг срок множество банковский заявка ...</td>\n",
       "    </tr>\n",
       "  </tbody>\n",
       "</table>\n",
       "<p>118870 rows × 2 columns</p>\n",
       "</div>"
      ],
      "text/plain": [
       "        category                                              title\n",
       "116861        13  эксперт автомобиль туризм техника тонна исполь...\n",
       "41692         12  занятие путь начать психологический офис вновь...\n",
       "70490          3  эксперт сделать логотип предприятие подать тек...\n",
       "84514          0  скидка туризм дом крепление звук электроника с...\n",
       "44850         24  регулярно внимание доход начать собираться нач...\n",
       "...          ...                                                ...\n",
       "78027         10  совет объесть диета прочий массаж спа душа кож...\n",
       "75227         24  внимание лежать пусть знак просить взрослый по...\n",
       "48349         12  совет знакомство значить целое мудрость конфли...\n",
       "77856         25  сетевой потолок товарный силовой делать базовы...\n",
       "34392         15  долг рейтинг срок множество банковский заявка ...\n",
       "\n",
       "[118870 rows x 2 columns]"
      ]
     },
     "execution_count": 42,
     "metadata": {
      "tags": []
     },
     "output_type": "execute_result"
    }
   ],
   "source": [
    "df_FullHtml"
   ]
  },
  {
   "cell_type": "code",
   "execution_count": 24,
   "metadata": {
    "colab": {
     "base_uri": "https://localhost:8080/",
     "height": 34
    },
    "colab_type": "code",
    "executionInfo": {
     "elapsed": 3149,
     "status": "ok",
     "timestamp": 1582278890980,
     "user": {
      "displayName": "Sambr The Slayer",
      "photoUrl": "https://lh3.googleusercontent.com/a-/AAuE7mCMkWyB8JIrTlhktnEMIeJ9_qij3YSznzf1NDcJ=s64",
      "userId": "05185642311747649005"
     },
     "user_tz": -300
    },
    "id": "_-J-z8wFrUgp",
    "outputId": "9d4135ab-3fdd-4024-a891-f4c243763022"
   },
   "outputs": [
    {
     "data": {
      "text/plain": [
       "29"
      ]
     },
     "execution_count": 24,
     "metadata": {
      "tags": []
     },
     "output_type": "execute_result"
    }
   ],
   "source": [
    "df_FullHtml = df_FullHtml[['category','title']]\n",
    "df_FullHtml['title'] = df_FullHtml['title'].astype('str')\n",
    "len(set(df_FullHtml['category']))"
   ]
  },
  {
   "cell_type": "code",
   "execution_count": 0,
   "metadata": {
    "colab": {},
    "colab_type": "code",
    "id": "kvq8KTdAwB7M"
   },
   "outputs": [],
   "source": [
    "df_FullHtml = shuffle(df_FullHtml)"
   ]
  },
  {
   "cell_type": "code",
   "execution_count": 26,
   "metadata": {
    "colab": {
     "base_uri": "https://localhost:8080/",
     "height": 34
    },
    "colab_type": "code",
    "executionInfo": {
     "elapsed": 4940,
     "status": "ok",
     "timestamp": 1582278897973,
     "user": {
      "displayName": "Sambr The Slayer",
      "photoUrl": "https://lh3.googleusercontent.com/a-/AAuE7mCMkWyB8JIrTlhktnEMIeJ9_qij3YSznzf1NDcJ=s64",
      "userId": "05185642311747649005"
     },
     "user_tz": -300
    },
    "id": "2LvwXAX5rUlq",
    "outputId": "d7fdc158-ce2a-43d6-8b31-21aebfc1f06f"
   },
   "outputs": [
    {
     "data": {
      "text/plain": [
       "29"
      ]
     },
     "execution_count": 26,
     "metadata": {
      "tags": []
     },
     "output_type": "execute_result"
    }
   ],
   "source": [
    "df2 = df_FullHtml\n",
    "df4 = df2\n",
    "df2 = df4[df4['title'].str.split().str.len() > 50]\n",
    "len(set(df2['category']))"
   ]
  },
  {
   "cell_type": "code",
   "execution_count": 0,
   "metadata": {
    "colab": {},
    "colab_type": "code",
    "id": "l87HX3-brUp_"
   },
   "outputs": [],
   "source": [
    "df2 = shuffle(df2)\n",
    "df2 = df2.reset_index()\n",
    "df2 = df2[['category','title']]"
   ]
  },
  {
   "cell_type": "code",
   "execution_count": 0,
   "metadata": {
    "colab": {},
    "colab_type": "code",
    "id": "dyI7ugturUs3"
   },
   "outputs": [],
   "source": [
    "df3 = df2.groupby('category')['title'].apply(lambda row: ' '.join(row)).reset_index()"
   ]
  },
  {
   "cell_type": "code",
   "execution_count": 43,
   "metadata": {
    "colab": {
     "base_uri": "https://localhost:8080/",
     "height": 419
    },
    "colab_type": "code",
    "executionInfo": {
     "elapsed": 867,
     "status": "ok",
     "timestamp": 1582280477199,
     "user": {
      "displayName": "Sambr The Slayer",
      "photoUrl": "https://lh3.googleusercontent.com/a-/AAuE7mCMkWyB8JIrTlhktnEMIeJ9_qij3YSznzf1NDcJ=s64",
      "userId": "05185642311747649005"
     },
     "user_tz": -300
    },
    "id": "VN_MxbeIQ_wt",
    "outputId": "4458c85c-bbe0-4279-a4bc-1c02ad32a83a"
   },
   "outputs": [
    {
     "data": {
      "text/html": [
       "<div>\n",
       "<style scoped>\n",
       "    .dataframe tbody tr th:only-of-type {\n",
       "        vertical-align: middle;\n",
       "    }\n",
       "\n",
       "    .dataframe tbody tr th {\n",
       "        vertical-align: top;\n",
       "    }\n",
       "\n",
       "    .dataframe thead th {\n",
       "        text-align: right;\n",
       "    }\n",
       "</style>\n",
       "<table border=\"1\" class=\"dataframe\">\n",
       "  <thead>\n",
       "    <tr style=\"text-align: right;\">\n",
       "      <th></th>\n",
       "      <th>category</th>\n",
       "      <th>title</th>\n",
       "    </tr>\n",
       "  </thead>\n",
       "  <tbody>\n",
       "    <tr>\n",
       "      <th>0</th>\n",
       "      <td>6</td>\n",
       "      <td>весна тщательно скидка кулон заполнение кисть ...</td>\n",
       "    </tr>\n",
       "    <tr>\n",
       "      <th>1</th>\n",
       "      <td>25</td>\n",
       "      <td>скидка решить участок сэкономить крепление нас...</td>\n",
       "    </tr>\n",
       "    <tr>\n",
       "      <th>2</th>\n",
       "      <td>4</td>\n",
       "      <td>единый обратный срок сделать фабрика офисный б...</td>\n",
       "    </tr>\n",
       "    <tr>\n",
       "      <th>3</th>\n",
       "      <td>3</td>\n",
       "      <td>производитель скидка регистратор запрос заказ ...</td>\n",
       "    </tr>\n",
       "    <tr>\n",
       "      <th>4</th>\n",
       "      <td>26</td>\n",
       "      <td>эксперт парк рефрижератор документ логистика п...</td>\n",
       "    </tr>\n",
       "    <tr>\n",
       "      <th>...</th>\n",
       "      <td>...</td>\n",
       "      <td>...</td>\n",
       "    </tr>\n",
       "    <tr>\n",
       "      <th>87943</th>\n",
       "      <td>15</td>\n",
       "      <td>безопасность заполнение потолок слой широкий о...</td>\n",
       "    </tr>\n",
       "    <tr>\n",
       "      <th>87944</th>\n",
       "      <td>15</td>\n",
       "      <td>внимание химический автомобиль сельскохозяйств...</td>\n",
       "    </tr>\n",
       "    <tr>\n",
       "      <th>87945</th>\n",
       "      <td>3</td>\n",
       "      <td>цветной обратный скидка документ соблюдение бо...</td>\n",
       "    </tr>\n",
       "    <tr>\n",
       "      <th>87946</th>\n",
       "      <td>17</td>\n",
       "      <td>просмотреть пошаговый экран доход ввести бонус...</td>\n",
       "    </tr>\n",
       "    <tr>\n",
       "      <th>87947</th>\n",
       "      <td>0</td>\n",
       "      <td>литой быстро ресурс спектр балансировка записа...</td>\n",
       "    </tr>\n",
       "  </tbody>\n",
       "</table>\n",
       "<p>87948 rows × 2 columns</p>\n",
       "</div>"
      ],
      "text/plain": [
       "       category                                              title\n",
       "0             6  весна тщательно скидка кулон заполнение кисть ...\n",
       "1            25  скидка решить участок сэкономить крепление нас...\n",
       "2             4  единый обратный срок сделать фабрика офисный б...\n",
       "3             3  производитель скидка регистратор запрос заказ ...\n",
       "4            26  эксперт парк рефрижератор документ логистика п...\n",
       "...         ...                                                ...\n",
       "87943        15  безопасность заполнение потолок слой широкий о...\n",
       "87944        15  внимание химический автомобиль сельскохозяйств...\n",
       "87945         3  цветной обратный скидка документ соблюдение бо...\n",
       "87946        17  просмотреть пошаговый экран доход ввести бонус...\n",
       "87947         0  литой быстро ресурс спектр балансировка записа...\n",
       "\n",
       "[87948 rows x 2 columns]"
      ]
     },
     "execution_count": 43,
     "metadata": {
      "tags": []
     },
     "output_type": "execute_result"
    }
   ],
   "source": [
    "df2"
   ]
  },
  {
   "cell_type": "code",
   "execution_count": 44,
   "metadata": {
    "colab": {
     "base_uri": "https://localhost:8080/",
     "height": 948
    },
    "colab_type": "code",
    "executionInfo": {
     "elapsed": 1378,
     "status": "ok",
     "timestamp": 1582280499632,
     "user": {
      "displayName": "Sambr The Slayer",
      "photoUrl": "https://lh3.googleusercontent.com/a-/AAuE7mCMkWyB8JIrTlhktnEMIeJ9_qij3YSznzf1NDcJ=s64",
      "userId": "05185642311747649005"
     },
     "user_tz": -300
    },
    "id": "VkA4viSxRFDz",
    "outputId": "e868984a-ac11-475a-818a-1ee7333e5243"
   },
   "outputs": [
    {
     "data": {
      "text/html": [
       "<div>\n",
       "<style scoped>\n",
       "    .dataframe tbody tr th:only-of-type {\n",
       "        vertical-align: middle;\n",
       "    }\n",
       "\n",
       "    .dataframe tbody tr th {\n",
       "        vertical-align: top;\n",
       "    }\n",
       "\n",
       "    .dataframe thead th {\n",
       "        text-align: right;\n",
       "    }\n",
       "</style>\n",
       "<table border=\"1\" class=\"dataframe\">\n",
       "  <thead>\n",
       "    <tr style=\"text-align: right;\">\n",
       "      <th></th>\n",
       "      <th>category</th>\n",
       "      <th>title</th>\n",
       "    </tr>\n",
       "  </thead>\n",
       "  <tbody>\n",
       "    <tr>\n",
       "      <th>0</th>\n",
       "      <td>0</td>\n",
       "      <td>учебный скидка покраска эксплуатационный запас...</td>\n",
       "    </tr>\n",
       "    <tr>\n",
       "      <th>1</th>\n",
       "      <td>1</td>\n",
       "      <td>объесть бухгалтер парк рефрижератор трал химич...</td>\n",
       "    </tr>\n",
       "    <tr>\n",
       "      <th>2</th>\n",
       "      <td>2</td>\n",
       "      <td>депутат весна образовательный безопасность дво...</td>\n",
       "    </tr>\n",
       "    <tr>\n",
       "      <th>3</th>\n",
       "      <td>3</td>\n",
       "      <td>производитель скидка регистратор запрос заказ ...</td>\n",
       "    </tr>\n",
       "    <tr>\n",
       "      <th>4</th>\n",
       "      <td>4</td>\n",
       "      <td>единый обратный срок сделать фабрика офисный б...</td>\n",
       "    </tr>\n",
       "    <tr>\n",
       "      <th>5</th>\n",
       "      <td>5</td>\n",
       "      <td>документ читатель дом подробный питомник клини...</td>\n",
       "    </tr>\n",
       "    <tr>\n",
       "      <th>6</th>\n",
       "      <td>6</td>\n",
       "      <td>весна тщательно скидка кулон заполнение кисть ...</td>\n",
       "    </tr>\n",
       "    <tr>\n",
       "      <th>7</th>\n",
       "      <td>7</td>\n",
       "      <td>просмотреть решить правда шансон специально иб...</td>\n",
       "    </tr>\n",
       "    <tr>\n",
       "      <th>8</th>\n",
       "      <td>8</td>\n",
       "      <td>выявить ряд документ отвечать профессионализм ...</td>\n",
       "    </tr>\n",
       "    <tr>\n",
       "      <th>9</th>\n",
       "      <td>9</td>\n",
       "      <td>скидка безопасность мысль психологический счас...</td>\n",
       "    </tr>\n",
       "    <tr>\n",
       "      <th>10</th>\n",
       "      <td>10</td>\n",
       "      <td>образовательный занятие освоение ведущий студе...</td>\n",
       "    </tr>\n",
       "    <tr>\n",
       "      <th>11</th>\n",
       "      <td>11</td>\n",
       "      <td>супер добрый декларация доход путь входить риэ...</td>\n",
       "    </tr>\n",
       "    <tr>\n",
       "      <th>12</th>\n",
       "      <td>12</td>\n",
       "      <td>сделать подтверждение дом владелец ноготь выбо...</td>\n",
       "    </tr>\n",
       "    <tr>\n",
       "      <th>13</th>\n",
       "      <td>13</td>\n",
       "      <td>депутат гиперссылка законодательство документ ...</td>\n",
       "    </tr>\n",
       "    <tr>\n",
       "      <th>14</th>\n",
       "      <td>14</td>\n",
       "      <td>подготовить техника студент специальность преп...</td>\n",
       "    </tr>\n",
       "    <tr>\n",
       "      <th>15</th>\n",
       "      <td>15</td>\n",
       "      <td>выпуск конечный сделать безопасность путь проч...</td>\n",
       "    </tr>\n",
       "    <tr>\n",
       "      <th>16</th>\n",
       "      <td>16</td>\n",
       "      <td>сделать свежий двор отель маленький игрушка ча...</td>\n",
       "    </tr>\n",
       "    <tr>\n",
       "      <th>17</th>\n",
       "      <td>17</td>\n",
       "      <td>единый образовательный сетевой аспект оценка п...</td>\n",
       "    </tr>\n",
       "    <tr>\n",
       "      <th>18</th>\n",
       "      <td>18</td>\n",
       "      <td>цветной сделать парк детский отель подтвержден...</td>\n",
       "    </tr>\n",
       "    <tr>\n",
       "      <th>19</th>\n",
       "      <td>19</td>\n",
       "      <td>образовательный прошение глава дом дева брак п...</td>\n",
       "    </tr>\n",
       "    <tr>\n",
       "      <th>20</th>\n",
       "      <td>20</td>\n",
       "      <td>эксперт малыш детский практичный оптом подробн...</td>\n",
       "    </tr>\n",
       "    <tr>\n",
       "      <th>21</th>\n",
       "      <td>21</td>\n",
       "      <td>усилие идти читатель код июнь следовать разный...</td>\n",
       "    </tr>\n",
       "    <tr>\n",
       "      <th>22</th>\n",
       "      <td>22</td>\n",
       "      <td>фабрика отель август заказ бар профи оператор ...</td>\n",
       "    </tr>\n",
       "    <tr>\n",
       "      <th>23</th>\n",
       "      <td>23</td>\n",
       "      <td>обратный сделать входить малоэтажный обращатьс...</td>\n",
       "    </tr>\n",
       "    <tr>\n",
       "      <th>24</th>\n",
       "      <td>24</td>\n",
       "      <td>запрос индекс маленький редактирование заказ д...</td>\n",
       "    </tr>\n",
       "    <tr>\n",
       "      <th>25</th>\n",
       "      <td>25</td>\n",
       "      <td>скидка решить участок сэкономить крепление нас...</td>\n",
       "    </tr>\n",
       "    <tr>\n",
       "      <th>26</th>\n",
       "      <td>26</td>\n",
       "      <td>эксперт парк рефрижератор документ логистика п...</td>\n",
       "    </tr>\n",
       "    <tr>\n",
       "      <th>27</th>\n",
       "      <td>27</td>\n",
       "      <td>парк счастливый базовый минута профессионализм...</td>\n",
       "    </tr>\n",
       "    <tr>\n",
       "      <th>28</th>\n",
       "      <td>28</td>\n",
       "      <td>финансирование дом вкладывать высокодоходный о...</td>\n",
       "    </tr>\n",
       "  </tbody>\n",
       "</table>\n",
       "</div>"
      ],
      "text/plain": [
       "    category                                              title\n",
       "0          0  учебный скидка покраска эксплуатационный запас...\n",
       "1          1  объесть бухгалтер парк рефрижератор трал химич...\n",
       "2          2  депутат весна образовательный безопасность дво...\n",
       "3          3  производитель скидка регистратор запрос заказ ...\n",
       "4          4  единый обратный срок сделать фабрика офисный б...\n",
       "5          5  документ читатель дом подробный питомник клини...\n",
       "6          6  весна тщательно скидка кулон заполнение кисть ...\n",
       "7          7  просмотреть решить правда шансон специально иб...\n",
       "8          8  выявить ряд документ отвечать профессионализм ...\n",
       "9          9  скидка безопасность мысль психологический счас...\n",
       "10        10  образовательный занятие освоение ведущий студе...\n",
       "11        11  супер добрый декларация доход путь входить риэ...\n",
       "12        12  сделать подтверждение дом владелец ноготь выбо...\n",
       "13        13  депутат гиперссылка законодательство документ ...\n",
       "14        14  подготовить техника студент специальность преп...\n",
       "15        15  выпуск конечный сделать безопасность путь проч...\n",
       "16        16  сделать свежий двор отель маленький игрушка ча...\n",
       "17        17  единый образовательный сетевой аспект оценка п...\n",
       "18        18  цветной сделать парк детский отель подтвержден...\n",
       "19        19  образовательный прошение глава дом дева брак п...\n",
       "20        20  эксперт малыш детский практичный оптом подробн...\n",
       "21        21  усилие идти читатель код июнь следовать разный...\n",
       "22        22  фабрика отель август заказ бар профи оператор ...\n",
       "23        23  обратный сделать входить малоэтажный обращатьс...\n",
       "24        24  запрос индекс маленький редактирование заказ д...\n",
       "25        25  скидка решить участок сэкономить крепление нас...\n",
       "26        26  эксперт парк рефрижератор документ логистика п...\n",
       "27        27  парк счастливый базовый минута профессионализм...\n",
       "28        28  финансирование дом вкладывать высокодоходный о..."
      ]
     },
     "execution_count": 44,
     "metadata": {
      "tags": []
     },
     "output_type": "execute_result"
    }
   ],
   "source": [
    "df3"
   ]
  },
  {
   "cell_type": "code",
   "execution_count": 0,
   "metadata": {
    "colab": {},
    "colab_type": "code",
    "id": "88wuGv7MrlXU"
   },
   "outputs": [],
   "source": [
    "idf_vectorizer = TfidfVectorizer()\n",
    "tf_idf_matrix_train = idf_vectorizer.fit_transform(df3['title'])\n",
    "vectorizer = CountVectorizer()\n",
    "onehot_matrix_train = vectorizer.fit_transform(df2['title'])\n",
    "result_matrix_train = tf_idf_matrix_train * onehot_matrix_train.T"
   ]
  },
  {
   "cell_type": "code",
   "execution_count": 30,
   "metadata": {
    "colab": {
     "base_uri": "https://localhost:8080/",
     "height": 34
    },
    "colab_type": "code",
    "executionInfo": {
     "elapsed": 16977,
     "status": "ok",
     "timestamp": 1582278914977,
     "user": {
      "displayName": "Sambr The Slayer",
      "photoUrl": "https://lh3.googleusercontent.com/a-/AAuE7mCMkWyB8JIrTlhktnEMIeJ9_qij3YSznzf1NDcJ=s64",
      "userId": "05185642311747649005"
     },
     "user_tz": -300
    },
    "id": "yLw5NdyUrlaD",
    "outputId": "3dcfeaa4-702a-4f43-b2d9-0388119ab5ae"
   },
   "outputs": [
    {
     "data": {
      "text/plain": [
       "(29, 87948)"
      ]
     },
     "execution_count": 30,
     "metadata": {
      "tags": []
     },
     "output_type": "execute_result"
    }
   ],
   "source": [
    "result_matrix_train.shape"
   ]
  },
  {
   "cell_type": "code",
   "execution_count": 0,
   "metadata": {
    "colab": {},
    "colab_type": "code",
    "id": "qELKG6uRrlfa"
   },
   "outputs": [],
   "source": [
    "from sklearn.model_selection import train_test_split\n",
    "from sklearn.model_selection import GridSearchCV\n",
    "import time"
   ]
  },
  {
   "cell_type": "code",
   "execution_count": 0,
   "metadata": {
    "colab": {},
    "colab_type": "code",
    "id": "Rd0_mLVLrlh8"
   },
   "outputs": [],
   "source": [
    "X = result_matrix_train.T.toarray()\n",
    "y = df2['category'].to_list()"
   ]
  },
  {
   "cell_type": "code",
   "execution_count": 0,
   "metadata": {
    "colab": {},
    "colab_type": "code",
    "id": "aZjR0HKIrlkp"
   },
   "outputs": [],
   "source": [
    "X_train, X_test, y_train, y_test = train_test_split(X, y, test_size=0.25)"
   ]
  },
  {
   "cell_type": "code",
   "execution_count": 0,
   "metadata": {
    "colab": {},
    "colab_type": "code",
    "id": "snmtQb4jrlpn"
   },
   "outputs": [],
   "source": [
    "from sklearn.linear_model import LogisticRegression"
   ]
  },
  {
   "cell_type": "code",
   "execution_count": 36,
   "metadata": {
    "colab": {
     "base_uri": "https://localhost:8080/",
     "height": 102
    },
    "colab_type": "code",
    "executionInfo": {
     "elapsed": 69318,
     "status": "ok",
     "timestamp": 1582279048506,
     "user": {
      "displayName": "Sambr The Slayer",
      "photoUrl": "https://lh3.googleusercontent.com/a-/AAuE7mCMkWyB8JIrTlhktnEMIeJ9_qij3YSznzf1NDcJ=s64",
      "userId": "05185642311747649005"
     },
     "user_tz": -300
    },
    "id": "D-Dx_-MermEf",
    "outputId": "e0f01451-6ed2-4bf4-d1ec-a5f07832c191"
   },
   "outputs": [
    {
     "data": {
      "text/plain": [
       "LogisticRegression(C=1.0, class_weight=None, dual=False, fit_intercept=True,\n",
       "                   intercept_scaling=1, l1_ratio=None, max_iter=100,\n",
       "                   multi_class='multinomial', n_jobs=None, penalty='l2',\n",
       "                   random_state=None, solver='newton-cg', tol=0.0001, verbose=0,\n",
       "                   warm_start=False)"
      ]
     },
     "execution_count": 36,
     "metadata": {
      "tags": []
     },
     "output_type": "execute_result"
    }
   ],
   "source": [
    "logreg = LogisticRegression(solver='newton-cg', multi_class='multinomial')\n",
    "logreg.fit(X_train, y_train)"
   ]
  },
  {
   "cell_type": "code",
   "execution_count": 37,
   "metadata": {
    "colab": {
     "base_uri": "https://localhost:8080/",
     "height": 51
    },
    "colab_type": "code",
    "executionInfo": {
     "elapsed": 833,
     "status": "ok",
     "timestamp": 1582279076343,
     "user": {
      "displayName": "Sambr The Slayer",
      "photoUrl": "https://lh3.googleusercontent.com/a-/AAuE7mCMkWyB8JIrTlhktnEMIeJ9_qij3YSznzf1NDcJ=s64",
      "userId": "05185642311747649005"
     },
     "user_tz": -300
    },
    "id": "om_4a8JOf8mb",
    "outputId": "db718c16-263e-41b2-f085-cfeb301cca35"
   },
   "outputs": [
    {
     "name": "stdout",
     "output_type": "stream",
     "text": [
      "ACCURACY : 0.8654659571565015\n",
      "F1 : 0.8515923667604673\n"
     ]
    }
   ],
   "source": [
    "from sklearn.metrics import accuracy_score, f1_score\n",
    "\n",
    "y_pred = logreg.predict(X_test)\n",
    "print('ACCURACY :', accuracy_score(y_pred, y_test))\n",
    "print('F1 :', f1_score(y_pred, y_test, average='macro'))"
   ]
  },
  {
   "cell_type": "code",
   "execution_count": 0,
   "metadata": {
    "colab": {},
    "colab_type": "code",
    "id": "_Q5mkvw1D12z"
   },
   "outputs": [],
   "source": [
    "from sklearn.metrics import classification_report"
   ]
  },
  {
   "cell_type": "code",
   "execution_count": 41,
   "metadata": {
    "colab": {
     "base_uri": "https://localhost:8080/",
     "height": 629
    },
    "colab_type": "code",
    "executionInfo": {
     "elapsed": 754,
     "status": "ok",
     "timestamp": 1582279540832,
     "user": {
      "displayName": "Sambr The Slayer",
      "photoUrl": "https://lh3.googleusercontent.com/a-/AAuE7mCMkWyB8JIrTlhktnEMIeJ9_qij3YSznzf1NDcJ=s64",
      "userId": "05185642311747649005"
     },
     "user_tz": -300
    },
    "id": "HVXIqoNBEFk7",
    "outputId": "10a8c6cc-4108-4b71-ab4e-7781b135d7c3"
   },
   "outputs": [
    {
     "name": "stdout",
     "output_type": "stream",
     "text": [
      "              precision    recall  f1-score   support\n",
      "\n",
      "           0       0.94      0.94      0.94       949\n",
      "           1       0.85      0.77      0.81       491\n",
      "           2       0.88      0.89      0.89       746\n",
      "           3       0.85      0.91      0.88      2834\n",
      "           4       0.83      0.89      0.86      1982\n",
      "           5       0.90      0.78      0.84       106\n",
      "           6       0.83      0.77      0.80       290\n",
      "           7       0.92      0.90      0.91      1308\n",
      "           8       0.93      0.90      0.92       419\n",
      "           9       0.96      0.91      0.94       172\n",
      "          10       0.88      0.90      0.89      1539\n",
      "          11       0.93      0.87      0.90       223\n",
      "          12       0.92      0.92      0.92       489\n",
      "          13       0.89      0.85      0.87       807\n",
      "          14       0.77      0.71      0.74       255\n",
      "          15       0.81      0.81      0.81      1363\n",
      "          16       0.90      0.89      0.90       647\n",
      "          17       0.84      0.75      0.79       326\n",
      "          18       0.86      0.90      0.88      1850\n",
      "          19       0.80      0.61      0.69        74\n",
      "          20       0.89      0.76      0.82       193\n",
      "          21       0.94      0.91      0.93       597\n",
      "          22       0.89      0.71      0.79       235\n",
      "          23       0.89      0.78      0.83       536\n",
      "          24       0.83      0.85      0.84      2116\n",
      "          25       0.82      0.79      0.80      1019\n",
      "          26       0.82      0.72      0.77        89\n",
      "          27       0.91      0.83      0.87       207\n",
      "          28       0.92      0.87      0.90       125\n",
      "\n",
      "    accuracy                           0.87     21987\n",
      "   macro avg       0.88      0.83      0.85     21987\n",
      "weighted avg       0.87      0.87      0.86     21987\n",
      "\n"
     ]
    }
   ],
   "source": [
    "print(classification_report(y_test, y_pred))"
   ]
  }
 ],
 "metadata": {
  "colab": {
   "authorship_tag": "ABX9TyOn74+o89DPbFPqVjd0OHVK",
   "collapsed_sections": [],
   "name": "forArsenii.ipynb",
   "provenance": []
  },
  "kernelspec": {
   "display_name": "Python 3",
   "language": "python",
   "name": "python3"
  },
  "language_info": {
   "codemirror_mode": {
    "name": "ipython",
    "version": 3
   },
   "file_extension": ".py",
   "mimetype": "text/x-python",
   "name": "python",
   "nbconvert_exporter": "python",
   "pygments_lexer": "ipython3",
   "version": "3.6.9"
  }
 },
 "nbformat": 4,
 "nbformat_minor": 1
}

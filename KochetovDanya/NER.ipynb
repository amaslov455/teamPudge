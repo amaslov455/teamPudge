{
  "nbformat": 4,
  "nbformat_minor": 0,
  "metadata": {
    "kernelspec": {
      "display_name": "Python 3",
      "language": "python",
      "name": "python3"
    },
    "language_info": {
      "codemirror_mode": {
        "name": "ipython",
        "version": 3
      },
      "file_extension": ".py",
      "mimetype": "text/x-python",
      "name": "python",
      "nbconvert_exporter": "python",
      "pygments_lexer": "ipython3",
      "version": "3.6.9"
    },
    "colab": {
      "name": "NER.ipynb",
      "provenance": [],
      "collapsed_sections": []
    }
  },
  "cells": [
    {
      "cell_type": "code",
      "metadata": {
        "id": "aZcjwOFQvNW0",
        "colab_type": "code",
        "colab": {}
      },
      "source": [
        "from google.colab import drive\n",
        "drive.mount('/content/drive')"
      ],
      "execution_count": 0,
      "outputs": []
    },
    {
      "cell_type": "code",
      "metadata": {
        "id": "-MgexVn542RJ",
        "colab_type": "code",
        "colab": {}
      },
      "source": [
        "import pandas as pd\n",
        "import re"
      ],
      "execution_count": 0,
      "outputs": []
    },
    {
      "cell_type": "code",
      "metadata": {
        "id": "lW6YyffmvHR_",
        "colab_type": "code",
        "colab": {}
      },
      "source": [
        "df = pd.read_csv('/content/drive/My Drive/Colab Notebooks/mail_parsed_FULL_V2.csv', encoding='utf-8-sig',lineterminator='\\n' )"
      ],
      "execution_count": 0,
      "outputs": []
    },
    {
      "cell_type": "code",
      "metadata": {
        "id": "gd6VJavTvHSD",
        "colab_type": "code",
        "colab": {}
      },
      "source": [
        "df = df.drop('Unnamed: 0', 1)"
      ],
      "execution_count": 0,
      "outputs": []
    },
    {
      "cell_type": "code",
      "metadata": {
        "id": "9xlmrrWfvHSH",
        "colab_type": "code",
        "colab": {}
      },
      "source": [
        "df1 = df[['title','description','content']]"
      ],
      "execution_count": 0,
      "outputs": []
    },
    {
      "cell_type": "code",
      "metadata": {
        "id": "KurFGQfVvHSM",
        "colab_type": "code",
        "colab": {}
      },
      "source": [
        "df = df1"
      ],
      "execution_count": 0,
      "outputs": []
    },
    {
      "cell_type": "code",
      "metadata": {
        "id": "o4-uvxv3vHSR",
        "colab_type": "code",
        "outputId": "cf45d167-388d-43ce-bcff-5338dd469bef",
        "colab": {
          "base_uri": "https://localhost:8080/",
          "height": 419
        }
      },
      "source": [
        "df"
      ],
      "execution_count": 0,
      "outputs": [
        {
          "output_type": "execute_result",
          "data": {
            "text/html": [
              "<div>\n",
              "<style scoped>\n",
              "    .dataframe tbody tr th:only-of-type {\n",
              "        vertical-align: middle;\n",
              "    }\n",
              "\n",
              "    .dataframe tbody tr th {\n",
              "        vertical-align: top;\n",
              "    }\n",
              "\n",
              "    .dataframe thead th {\n",
              "        text-align: right;\n",
              "    }\n",
              "</style>\n",
              "<table border=\"1\" class=\"dataframe\">\n",
              "  <thead>\n",
              "    <tr style=\"text-align: right;\">\n",
              "      <th></th>\n",
              "      <th>title</th>\n",
              "      <th>description</th>\n",
              "      <th>content</th>\n",
              "    </tr>\n",
              "  </thead>\n",
              "  <tbody>\n",
              "    <tr>\n",
              "      <th>0</th>\n",
              "      <td>Независимый Бесплатный Сервис Проведения Опрос...</td>\n",
              "      <td>NaN</td>\n",
              "      <td>.Независимый Сервис для Проведения.Опросов и Г...</td>\n",
              "    </tr>\n",
              "    <tr>\n",
              "      <th>1</th>\n",
              "      <td>Turako — туристический интернет-журнал</td>\n",
              "      <td>Turako – сайт для всех кто любит путешествия. ...</td>\n",
              "      <td>.Перейти к контенту.Страны.Испания.Турция.Фран...</td>\n",
              "    </tr>\n",
              "    <tr>\n",
              "      <th>2</th>\n",
              "      <td>ITShop - Программы, Учебные курсы, Сертификаци...</td>\n",
              "      <td>NaN</td>\n",
              "      <td>.+7 (495) 229-0436. shopadmin@itshop.ru. 11933...</td>\n",
              "    </tr>\n",
              "    <tr>\n",
              "      <th>3</th>\n",
              "      <td>ВозвратАвто.ру - Возврат автомобиля продавцу.</td>\n",
              "      <td>Возврат авто.ру - Помощь в возврате бракованны...</td>\n",
              "      <td>.Авторитетная помощь автоюристов.. Юридические...</td>\n",
              "    </tr>\n",
              "    <tr>\n",
              "      <th>4</th>\n",
              "      <td>Торговый дом Гефест - снабжение предприятий ма...</td>\n",
              "      <td>Торговый дом Гефест - оборудование, станки, ин...</td>\n",
              "      <td>.8-800-511-01-52.[бесплатный звонок по РФ]. in...</td>\n",
              "    </tr>\n",
              "    <tr>\n",
              "      <th>...</th>\n",
              "      <td>...</td>\n",
              "      <td>...</td>\n",
              "      <td>...</td>\n",
              "    </tr>\n",
              "    <tr>\n",
              "      <th>209183</th>\n",
              "      <td>ДЕРЕВООБРАБАТЫВАЮЩЕЕ ОБОРУДОВАНИЕ со склада СП...</td>\n",
              "      <td>NaN</td>\n",
              "      <td>.ДЕРЕВООБРАБАТЫВАЮЩЕЕ. ОБОРУДОВАНИЕ со склада....</td>\n",
              "    </tr>\n",
              "    <tr>\n",
              "      <th>209184</th>\n",
              "      <td>Интернет-портал содействия юридической помощи ...</td>\n",
              "      <td>Профессиональные бесплатные юридические консул...</td>\n",
              "      <td>. goldfistrussia.ru. Защищаем права потребител...</td>\n",
              "    </tr>\n",
              "    <tr>\n",
              "      <th>209185</th>\n",
              "      <td>Нерудные материалы ( песок, щебень, керамзит, ...</td>\n",
              "      <td>Покупка (продажа) с доставкой бетона, строител...</td>\n",
              "      <td>.Четверг, 05.03.2020, 02:18. Такие нерудные ма...</td>\n",
              "    </tr>\n",
              "    <tr>\n",
              "      <th>209186</th>\n",
              "      <td>1274729 организаций России на прогрессивном по...</td>\n",
              "      <td>Справочник организаций России на прогрессивном...</td>\n",
              "      <td>. holm.ru. Добавить организацию. Войти. Выбери...</td>\n",
              "    </tr>\n",
              "    <tr>\n",
              "      <th>209187</th>\n",
              "      <td>Collection Of Porn Videos</td>\n",
              "      <td>NaN</td>\n",
              "      <td>. All TOP Porn Movies. | All NEW Porn Movies. ...</td>\n",
              "    </tr>\n",
              "  </tbody>\n",
              "</table>\n",
              "<p>209188 rows × 3 columns</p>\n",
              "</div>"
            ],
            "text/plain": [
              "                                                    title  ...                                            content\n",
              "0       Независимый Бесплатный Сервис Проведения Опрос...  ...  .Независимый Сервис для Проведения.Опросов и Г...\n",
              "1                  Turako — туристический интернет-журнал  ...  .Перейти к контенту.Страны.Испания.Турция.Фран...\n",
              "2       ITShop - Программы, Учебные курсы, Сертификаци...  ...  .+7 (495) 229-0436. shopadmin@itshop.ru. 11933...\n",
              "3           ВозвратАвто.ру - Возврат автомобиля продавцу.  ...  .Авторитетная помощь автоюристов.. Юридические...\n",
              "4       Торговый дом Гефест - снабжение предприятий ма...  ...  .8-800-511-01-52.[бесплатный звонок по РФ]. in...\n",
              "...                                                   ...  ...                                                ...\n",
              "209183  ДЕРЕВООБРАБАТЫВАЮЩЕЕ ОБОРУДОВАНИЕ со склада СП...  ...  .ДЕРЕВООБРАБАТЫВАЮЩЕЕ. ОБОРУДОВАНИЕ со склада....\n",
              "209184  Интернет-портал содействия юридической помощи ...  ...  . goldfistrussia.ru. Защищаем права потребител...\n",
              "209185  Нерудные материалы ( песок, щебень, керамзит, ...  ...  .Четверг, 05.03.2020, 02:18. Такие нерудные ма...\n",
              "209186  1274729 организаций России на прогрессивном по...  ...  . holm.ru. Добавить организацию. Войти. Выбери...\n",
              "209187                          Collection Of Porn Videos  ...  . All TOP Porn Movies. | All NEW Porn Movies. ...\n",
              "\n",
              "[209188 rows x 3 columns]"
            ]
          },
          "metadata": {
            "tags": []
          },
          "execution_count": 20
        }
      ]
    },
    {
      "cell_type": "code",
      "metadata": {
        "id": "mQyLx7PBvHSV",
        "colab_type": "code",
        "colab": {}
      },
      "source": [
        "df['title'] = df['title'].apply(lambda row: re.compile(r'(\\W)\\1+').sub(r'\\1', str(row)))\n",
        "df['title'] = df['title'].apply(lambda row: re.compile(r'[^\\w\\s]').sub(r' ', str(row)).strip())"
      ],
      "execution_count": 0,
      "outputs": []
    },
    {
      "cell_type": "code",
      "metadata": {
        "id": "ZLQXzSDkvHSa",
        "colab_type": "code",
        "colab": {}
      },
      "source": [
        "df['description'] = df['description'].apply(lambda row: re.compile(r'(\\W)\\1+').sub(r'\\1', str(row)))\n",
        "df['description'] = df['description'].apply(lambda row: re.compile(r'[^\\w\\s]').sub(r' ', str(row)).strip())"
      ],
      "execution_count": 0,
      "outputs": []
    },
    {
      "cell_type": "code",
      "metadata": {
        "id": "VchwNwmZvwE7",
        "colab_type": "code",
        "colab": {}
      },
      "source": [
        "df['content'] = df['content'].apply(lambda row: re.compile(r'(\\W)\\1+').sub(r'\\1', str(row)))\n",
        "df['content'] = df['content'].apply(lambda row: re.compile(r'[^\\w\\s]').sub(r' ', str(row)).strip())"
      ],
      "execution_count": 0,
      "outputs": []
    },
    {
      "cell_type": "code",
      "metadata": {
        "id": "wiXrp9fNv2sz",
        "colab_type": "code",
        "colab": {}
      },
      "source": [
        "df_content = df[df['content'] != 'nan']\n",
        "df_content = df_content[['content']]"
      ],
      "execution_count": 0,
      "outputs": []
    },
    {
      "cell_type": "code",
      "metadata": {
        "id": "X4WDIltMwaf1",
        "colab_type": "code",
        "colab": {}
      },
      "source": [
        "df_content = df_content.drop_duplicates()\n",
        "df_content = df_content.reset_index(drop=True)"
      ],
      "execution_count": 0,
      "outputs": []
    },
    {
      "cell_type": "code",
      "metadata": {
        "id": "iJ4R_aMz4SqY",
        "colab_type": "code",
        "colab": {}
      },
      "source": [
        ""
      ],
      "execution_count": 0,
      "outputs": []
    },
    {
      "cell_type": "code",
      "metadata": {
        "id": "agy_6ZPswaLW",
        "colab_type": "code",
        "colab": {}
      },
      "source": [
        "pip install natasha"
      ],
      "execution_count": 0,
      "outputs": []
    },
    {
      "cell_type": "code",
      "metadata": {
        "id": "0OaLYUh5EHq5",
        "colab_type": "code",
        "colab": {}
      },
      "source": [
        "from natasha import OrganisationExtractor\n",
        "from natasha import NamesExtractor\n",
        "from natasha import LocationExtractor"
      ],
      "execution_count": 0,
      "outputs": []
    },
    {
      "cell_type": "code",
      "metadata": {
        "id": "W8fwTaZwDZ66",
        "colab_type": "code",
        "colab": {}
      },
      "source": [
        "all_titles = []\n",
        "for text in df_content['content']:\n",
        "  all_titles.append(text)"
      ],
      "execution_count": 0,
      "outputs": []
    },
    {
      "cell_type": "code",
      "metadata": {
        "id": "84F8ZzpfECYu",
        "colab_type": "code",
        "colab": {}
      },
      "source": [
        "list_of_name = []\n",
        "for count in range(len(all_titles)):\n",
        "    print(count)\n",
        "    extractor = OrganisationExtractor()\n",
        "    matches = extractor(all_titles[count])\n",
        "    for match in matches:\n",
        "        list_of_name.append(match.fact.name)"
      ],
      "execution_count": 0,
      "outputs": []
    },
    {
      "cell_type": "code",
      "metadata": {
        "id": "mm2qQHlYETF-",
        "colab_type": "code",
        "colab": {}
      },
      "source": [
        "list_of_name = list(set(list_of_name))\n",
        "df_organisation_content = pd.DataFrame(list_of_name)"
      ],
      "execution_count": 0,
      "outputs": []
    },
    {
      "cell_type": "code",
      "metadata": {
        "id": "E4sKeI9FTmxg",
        "colab_type": "code",
        "colab": {}
      },
      "source": [
        "df_organisation_desc.to_csv('/content/drive/My Drive/Colab Notebooks/df_organisation_desc.csv', encoding='utf-8-sig')"
      ],
      "execution_count": 0,
      "outputs": []
    },
    {
      "cell_type": "code",
      "metadata": {
        "id": "SFGFPROx4FwP",
        "colab_type": "code",
        "colab": {}
      },
      "source": [
        ""
      ],
      "execution_count": 0,
      "outputs": []
    },
    {
      "cell_type": "code",
      "metadata": {
        "id": "NrZQn-fPPnea",
        "colab_type": "code",
        "colab": {}
      },
      "source": [
        "list_of_name = []\n",
        "for count in range(len(all_titles)):\n",
        "    extractor = NamesExtractor()\n",
        "    matches = extractor(all_titles[count])\n",
        "    answer_name = ''\n",
        "    j = 0\n",
        "    print(count)\n",
        "\n",
        "    for match in matches:\n",
        "        for item in match.fact:\n",
        "            if j == 4:\n",
        "                list_of_name.append(answer_name)\n",
        "                j = 0\n",
        "                answer_name = ''\n",
        "            if type(item) == str:\n",
        "                answer_name += ''.join(item)\n",
        "                answer_name += ' '\n",
        "            j += 1\n",
        "    list_of_name.append(answer_name)"
      ],
      "execution_count": 0,
      "outputs": []
    },
    {
      "cell_type": "code",
      "metadata": {
        "id": "tmvyI3QEbMgg",
        "colab_type": "code",
        "colab": {}
      },
      "source": [
        "list_of_name = list(set(list_of_name))"
      ],
      "execution_count": 0,
      "outputs": []
    },
    {
      "cell_type": "code",
      "metadata": {
        "id": "8MNx_BFObCDK",
        "colab_type": "code",
        "colab": {}
      },
      "source": [
        "df_names_desc = pd.DataFrame(list_of_name)"
      ],
      "execution_count": 0,
      "outputs": []
    },
    {
      "cell_type": "code",
      "metadata": {
        "id": "q8ny_grLbHVu",
        "colab_type": "code",
        "colab": {}
      },
      "source": [
        "df_names_desc.to_csv('/content/drive/My Drive/Colab Notebooks/df_names_desc.csv', encoding='utf-8-sig')"
      ],
      "execution_count": 0,
      "outputs": []
    },
    {
      "cell_type": "code",
      "metadata": {
        "id": "3KqWIetV4IY7",
        "colab_type": "code",
        "colab": {}
      },
      "source": [
        ""
      ],
      "execution_count": 0,
      "outputs": []
    },
    {
      "cell_type": "code",
      "metadata": {
        "id": "voUsR1T2bIiZ",
        "colab_type": "code",
        "colab": {}
      },
      "source": [
        "list_of_name = []\n",
        "for count in range(len(all_titles)):\n",
        "    print(count)\n",
        "    extractor = LocationExtractor()\n",
        "    matches = extractor(all_titles[count])\n",
        "    for match in matches:\n",
        "        list_of_name.append(match.fact.name)"
      ],
      "execution_count": 0,
      "outputs": []
    },
    {
      "cell_type": "code",
      "metadata": {
        "id": "paB2U_w_lLh1",
        "colab_type": "code",
        "colab": {}
      },
      "source": [
        "list_of_name = list(set(list_of_name))\n",
        "df_location_desc = pd.DataFrame(list_of_name)"
      ],
      "execution_count": 0,
      "outputs": []
    },
    {
      "cell_type": "code",
      "metadata": {
        "id": "B3GlfkQPrko6",
        "colab_type": "code",
        "colab": {}
      },
      "source": [
        "df_location_desc.to_csv('/content/drive/My Drive/Colab Notebooks/df_location_desc.csv', encoding='utf-8-sig')"
      ],
      "execution_count": 0,
      "outputs": []
    },
    {
      "cell_type": "code",
      "metadata": {
        "id": "49G5ZFEarnfL",
        "colab_type": "code",
        "colab": {}
      },
      "source": [
        ""
      ],
      "execution_count": 0,
      "outputs": []
    },
    {
      "cell_type": "code",
      "metadata": {
        "id": "kZ9iDbmz4JHP",
        "colab_type": "code",
        "colab": {}
      },
      "source": [
        "df1 = pd.read_csv('/content/drive/My Drive/Colab Notebooks/df_location_content.csv', encoding='utf-8')\n",
        "df2 = pd.read_csv('/content/drive/My Drive/Colab Notebooks/df_location_desc.csv', encoding='utf-8')\n",
        "df3 = pd.read_csv('/content/drive/My Drive/Colab Notebooks/df_location_title.csv', encoding='utf-8')\n",
        "df4 = pd.read_csv('/content/drive/My Drive/Colab Notebooks/df_names_content.csv', encoding='utf-8')\n",
        "df5 = pd.read_csv('/content/drive/My Drive/Colab Notebooks/df_names_desc.csv', encoding='utf-8')\n",
        "df6 = pd.read_csv('/content/drive/My Drive/Colab Notebooks/df_names_title.csv', encoding='utf-8')\n",
        "df7 = pd.read_csv('/content/drive/My Drive/Colab Notebooks/df_organisation_content.csv', encoding='utf-8')\n",
        "df8 = pd.read_csv('/content/drive/My Drive/Colab Notebooks/df_organisation_desc.csv', encoding='utf-8')\n",
        "df9 = pd.read_csv('/content/drive/My Drive/Colab Notebooks/df_organisation_title.csv', encoding='utf-8')"
      ],
      "execution_count": 0,
      "outputs": []
    },
    {
      "cell_type": "code",
      "metadata": {
        "id": "JmUtRf1i6cud",
        "colab_type": "code",
        "colab": {}
      },
      "source": [
        "df1 = df1.drop('Unnamed: 0', 1)\n",
        "df2 = df2.drop('Unnamed: 0', 1)\n",
        "df3 = df3.drop('Unnamed: 0', 1)\n",
        "df4 = df4.drop('Unnamed: 0', 1)\n",
        "df5 = df5.drop('Unnamed: 0', 1)\n",
        "df6 = df6.drop('Unnamed: 0', 1)\n",
        "df7 = df7.drop('Unnamed: 0', 1)\n",
        "df8 = df8.drop('Unnamed: 0', 1)\n",
        "df9 = df9.drop('Unnamed: 0', 1)"
      ],
      "execution_count": 0,
      "outputs": []
    },
    {
      "cell_type": "code",
      "metadata": {
        "id": "mmP7a6Ai6j7Y",
        "colab_type": "code",
        "colab": {}
      },
      "source": [
        "df_NER = pd.concat([df1,df2,df3,df4,df5, df6, df7, df8, df9])"
      ],
      "execution_count": 0,
      "outputs": []
    },
    {
      "cell_type": "code",
      "metadata": {
        "id": "6IdBq-1E6oDS",
        "colab_type": "code",
        "colab": {}
      },
      "source": [
        "df_NER = df_NER.drop_duplicates()\n",
        "df_NER = df_NER.reset_index(drop=True)"
      ],
      "execution_count": 0,
      "outputs": []
    },
    {
      "cell_type": "code",
      "metadata": {
        "id": "WYWxTtqr6riu",
        "colab_type": "code",
        "colab": {}
      },
      "source": [
        "df_NER.to_csv('/content/drive/My Drive/Colab Notebooks/NER.csv', encoding='utf-8-sig')"
      ],
      "execution_count": 0,
      "outputs": []
    },
    {
      "cell_type": "code",
      "metadata": {
        "id": "Y_PmuwHiB-vC",
        "colab_type": "code",
        "colab": {}
      },
      "source": [
        ""
      ],
      "execution_count": 0,
      "outputs": []
    },
    {
      "cell_type": "code",
      "metadata": {
        "id": "kecHufW5B_hg",
        "colab_type": "code",
        "outputId": "1ceb9a26-408a-4e9f-a5a5-a0320ac86742",
        "colab": {
          "base_uri": "https://localhost:8080/",
          "height": 419
        }
      },
      "source": [
        "df_title"
      ],
      "execution_count": 0,
      "outputs": [
        {
          "output_type": "execute_result",
          "data": {
            "text/html": [
              "<div>\n",
              "<style scoped>\n",
              "    .dataframe tbody tr th:only-of-type {\n",
              "        vertical-align: middle;\n",
              "    }\n",
              "\n",
              "    .dataframe tbody tr th {\n",
              "        vertical-align: top;\n",
              "    }\n",
              "\n",
              "    .dataframe thead th {\n",
              "        text-align: right;\n",
              "    }\n",
              "</style>\n",
              "<table border=\"1\" class=\"dataframe\">\n",
              "  <thead>\n",
              "    <tr style=\"text-align: right;\">\n",
              "      <th></th>\n",
              "      <th>title</th>\n",
              "    </tr>\n",
              "  </thead>\n",
              "  <tbody>\n",
              "    <tr>\n",
              "      <th>0</th>\n",
              "      <td>Независимый Бесплатный Сервис Проведения Опрос...</td>\n",
              "    </tr>\n",
              "    <tr>\n",
              "      <th>1</th>\n",
              "      <td>Turako туристический интернет журнал</td>\n",
              "    </tr>\n",
              "    <tr>\n",
              "      <th>2</th>\n",
              "      <td>ITShop Программы Учебные курсы Сертификация Эк...</td>\n",
              "    </tr>\n",
              "    <tr>\n",
              "      <th>3</th>\n",
              "      <td>ВозвратАвто ру Возврат автомобиля продавцу</td>\n",
              "    </tr>\n",
              "    <tr>\n",
              "      <th>4</th>\n",
              "      <td>Торговый дом Гефест снабжение предприятий мате...</td>\n",
              "    </tr>\n",
              "    <tr>\n",
              "      <th>...</th>\n",
              "      <td>...</td>\n",
              "    </tr>\n",
              "    <tr>\n",
              "      <th>209183</th>\n",
              "      <td>ДЕРЕВООБРАБАТЫВАЮЩЕЕ ОБОРУДОВАНИЕ со склада СП...</td>\n",
              "    </tr>\n",
              "    <tr>\n",
              "      <th>209184</th>\n",
              "      <td>Интернет портал содействия юридической помощи ...</td>\n",
              "    </tr>\n",
              "    <tr>\n",
              "      <th>209185</th>\n",
              "      <td>Нерудные материалы песок щебень керамзит торф ...</td>\n",
              "    </tr>\n",
              "    <tr>\n",
              "      <th>209186</th>\n",
              "      <td>1274729 организаций России на прогрессивном по...</td>\n",
              "    </tr>\n",
              "    <tr>\n",
              "      <th>209187</th>\n",
              "      <td>Collection Of Porn Videos</td>\n",
              "    </tr>\n",
              "  </tbody>\n",
              "</table>\n",
              "<p>207687 rows × 1 columns</p>\n",
              "</div>"
            ],
            "text/plain": [
              "                                                    title\n",
              "0       Независимый Бесплатный Сервис Проведения Опрос...\n",
              "1                    Turako туристический интернет журнал\n",
              "2       ITShop Программы Учебные курсы Сертификация Эк...\n",
              "3              ВозвратАвто ру Возврат автомобиля продавцу\n",
              "4       Торговый дом Гефест снабжение предприятий мате...\n",
              "...                                                   ...\n",
              "209183  ДЕРЕВООБРАБАТЫВАЮЩЕЕ ОБОРУДОВАНИЕ со склада СП...\n",
              "209184  Интернет портал содействия юридической помощи ...\n",
              "209185  Нерудные материалы песок щебень керамзит торф ...\n",
              "209186  1274729 организаций России на прогрессивном по...\n",
              "209187                          Collection Of Porn Videos\n",
              "\n",
              "[207687 rows x 1 columns]"
            ]
          },
          "metadata": {
            "tags": []
          },
          "execution_count": 47
        }
      ]
    },
    {
      "cell_type": "code",
      "metadata": {
        "id": "B70nUBq9B4u8",
        "colab_type": "code",
        "colab": {}
      },
      "source": [
        "df_title = df[df['title'] != 'nan']\n",
        "df_title = df_title[['title']]"
      ],
      "execution_count": 0,
      "outputs": []
    },
    {
      "cell_type": "code",
      "metadata": {
        "id": "LI1nbRvcFLtz",
        "colab_type": "code",
        "colab": {}
      },
      "source": [
        "dictionary_titles = {}"
      ],
      "execution_count": 0,
      "outputs": []
    },
    {
      "cell_type": "code",
      "metadata": {
        "id": "3FjcxZfF8bAs",
        "colab_type": "code",
        "colab": {}
      },
      "source": [
        "i = 0\n",
        "for subword in df_NER['0']:\n",
        "  print(i)\n",
        "  i += 1\n",
        "  for word in df_title['title']:\n",
        "    Count = word.count(subword)\n",
        "    if Count == 0:\n",
        "      continue\n",
        "    else:\n",
        "        if subword not in dictionary_titles:\n",
        "            dictionary_titles[subword] = Count\n",
        "        else:\n",
        "            dictionary_titles[subword] += Count"
      ],
      "execution_count": 0,
      "outputs": []
    },
    {
      "cell_type": "code",
      "metadata": {
        "id": "Cczy8nN-9wO-",
        "colab_type": "code",
        "outputId": "3a9ce27a-8443-42fd-e837-5462050ba1e7",
        "colab": {
          "base_uri": "https://localhost:8080/",
          "height": 419
        }
      },
      "source": [
        "df_NER"
      ],
      "execution_count": 0,
      "outputs": [
        {
          "output_type": "execute_result",
          "data": {
            "text/html": [
              "<div>\n",
              "<style scoped>\n",
              "    .dataframe tbody tr th:only-of-type {\n",
              "        vertical-align: middle;\n",
              "    }\n",
              "\n",
              "    .dataframe tbody tr th {\n",
              "        vertical-align: top;\n",
              "    }\n",
              "\n",
              "    .dataframe thead th {\n",
              "        text-align: right;\n",
              "    }\n",
              "</style>\n",
              "<table border=\"1\" class=\"dataframe\">\n",
              "  <thead>\n",
              "    <tr style=\"text-align: right;\">\n",
              "      <th></th>\n",
              "      <th>0</th>\n",
              "    </tr>\n",
              "  </thead>\n",
              "  <tbody>\n",
              "    <tr>\n",
              "      <th>0</th>\n",
              "      <td>хтск</td>\n",
              "    </tr>\n",
              "    <tr>\n",
              "      <th>1</th>\n",
              "      <td>северный промрайон</td>\n",
              "    </tr>\n",
              "    <tr>\n",
              "      <th>2</th>\n",
              "      <td>уэстадо</td>\n",
              "    </tr>\n",
              "    <tr>\n",
              "      <th>3</th>\n",
              "      <td>селатаная</td>\n",
              "    </tr>\n",
              "    <tr>\n",
              "      <th>4</th>\n",
              "      <td>мдема</td>\n",
              "    </tr>\n",
              "    <tr>\n",
              "      <th>...</th>\n",
              "      <td>...</td>\n",
              "    </tr>\n",
              "    <tr>\n",
              "      <th>679166</th>\n",
              "      <td>ООО Изолит Энерго г</td>\n",
              "    </tr>\n",
              "    <tr>\n",
              "      <th>679167</th>\n",
              "      <td>КИТАВТО</td>\n",
              "    </tr>\n",
              "    <tr>\n",
              "      <th>679168</th>\n",
              "      <td>Компания Alive</td>\n",
              "    </tr>\n",
              "    <tr>\n",
              "      <th>679169</th>\n",
              "      <td>ООО РУБИН в</td>\n",
              "    </tr>\n",
              "    <tr>\n",
              "      <th>679170</th>\n",
              "      <td>компания Nomad Insurance</td>\n",
              "    </tr>\n",
              "  </tbody>\n",
              "</table>\n",
              "<p>679171 rows × 1 columns</p>\n",
              "</div>"
            ],
            "text/plain": [
              "                               0\n",
              "0                           хтск\n",
              "1             северный промрайон\n",
              "2                        уэстадо\n",
              "3                      селатаная\n",
              "4                          мдема\n",
              "...                          ...\n",
              "679166       ООО Изолит Энерго г\n",
              "679167                   КИТАВТО\n",
              "679168            Компания Alive\n",
              "679169               ООО РУБИН в\n",
              "679170  компания Nomad Insurance\n",
              "\n",
              "[679171 rows x 1 columns]"
            ]
          },
          "metadata": {
            "tags": []
          },
          "execution_count": 48
        }
      ]
    },
    {
      "cell_type": "code",
      "metadata": {
        "id": "wHLKr-oY-luc",
        "colab_type": "code",
        "colab": {}
      },
      "source": [
        ""
      ],
      "execution_count": 0,
      "outputs": []
    }
  ]
}